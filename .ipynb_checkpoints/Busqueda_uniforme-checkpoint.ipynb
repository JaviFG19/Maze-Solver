{
 "cells": [
  {
   "cell_type": "code",
   "execution_count": 15,
   "id": "05d31737",
   "metadata": {},
   "outputs": [],
   "source": [
    "import numpy as np"
   ]
  },
  {
   "cell_type": "code",
   "execution_count": 16,
   "id": "b16b2cbd",
   "metadata": {},
   "outputs": [
    {
     "name": "stdout",
     "output_type": "stream",
     "text": [
      "(10, 10)\n",
      "[['w' 'w' 'w' 'c' 'w' 'w' 'w' 'w' 'w' 'w']\n",
      " ['w' 'w' 'w' 'c' 'c' 'c' 'c' 'c' 'c' 'w']\n",
      " ['w' 'w' 'c' 'c' 'w' 'w' 'c' 'w' 'c' 'w']\n",
      " ['w' 'c' 'c' 'w' 'w' 'w' 'w' 'w' 'c' 'w']\n",
      " ['w' 'c' 'w' 'w' 'c' 'c' 'c' 'w' 'w' 'w']\n",
      " ['w' 'c' 'c' 'c' 'c' 'w' 'c' 'c' 'w' 'w']\n",
      " ['w' 'c' 'w' 'c' 'w' 'w' 'w' 'c' 'c' 'w']\n",
      " ['w' 'c' 'w' 'c' 'w' 'w' 'c' 'c' 'w' 'w']\n",
      " ['w' 'c' 'w' 'c' 'c' 'w' 'w' 'c' 'c' 'w']\n",
      " ['w' 'w' 'w' 'w' 'w' 'w' 'w' 'w' 'c' 'w']]\n"
     ]
    }
   ],
   "source": [
    "maze = np.genfromtxt('maze_10x10.csv', delimiter=',', dtype=str)\n",
    "print(maze.shape)\n",
    "print(maze)"
   ]
  },
  {
   "cell_type": "code",
   "execution_count": 17,
   "id": "5af5fcf9",
   "metadata": {},
   "outputs": [],
   "source": [
    "def availabe_actions(position, maze):\n",
    "    \"\"\"\n",
    "    Returns the available actions to do\n",
    "    \n",
    "    Parameters:\n",
    "    A list with the current position and the maze in a (nxn) matrix\n",
    "    Returns:\n",
    "    A list with the actions to do\n",
    "    \"\"\"\n",
    "    actions = []\n",
    "    if position[0]+1<maze.shape[0]:\n",
    "        if maze[position[0]+1,position[1]]!='w':\n",
    "            actions.append([1,0])\n",
    "    \n",
    "    if position[0]-1<maze.shape[0]:\n",
    "        if maze[position[0]-1,position[1]]!='w':\n",
    "            actions.append([-1,0])\n",
    "    \n",
    "    if position[1]+1<maze.shape[1]:\n",
    "        if maze[position[0],position[1]+1]!='w':\n",
    "            actions.append([0,1])\n",
    "    \n",
    "    if position[1]-1<maze.shape[1]:\n",
    "        if maze[position[0],position[1]-1]!='w':\n",
    "            actions.append([0,-1])\n",
    "    return actions\n",
    "\n",
    "def apply_action(position, action):\n",
    "    return [position[0]+action[0], position[1]+action[1]]\n",
    "\n",
    "def verify_end(node, maze):\n",
    "    end = False\n",
    "    if node.position == [maze.shape[0]-1, maze.shape[1]-2]:\n",
    "        end = True\n",
    "    return end\n",
    "\n",
    "class node:\n",
    "    \"\"\"\n",
    "    position\n",
    "    list of previous actions\n",
    "    \"\"\"\n",
    "    def __init__(self, position, actions=[]):\n",
    "        self.position = position\n",
    "        self.actions = actions"
   ]
  },
  {
   "cell_type": "code",
   "execution_count": 18,
   "id": "8307693f",
   "metadata": {},
   "outputs": [],
   "source": [
    "def transform_actions(x):\n",
    "    if x == [0,1]:\n",
    "        return \"R\"\n",
    "    if x == [0,-1]:\n",
    "        return \"L\"\n",
    "    if x == [1,0]:\n",
    "        return \"D\"\n",
    "    if x == [-1,0]:\n",
    "        return \"U\""
   ]
  },
  {
   "cell_type": "code",
   "execution_count": 19,
   "id": "2ca2990c",
   "metadata": {},
   "outputs": [
    {
     "name": "stdout",
     "output_type": "stream",
     "text": [
      "2905272 [9, 8] ['D', 'D', 'L', 'D', 'L', 'D', 'D', 'R', 'R', 'R', 'U', 'R', 'R', 'D', 'R', 'D', 'D', 'D', 'R', 'D']\n"
     ]
    }
   ],
   "source": [
    "import queue\n",
    "\n",
    "S = node([0,3])\n",
    "frontier= queue.Queue()\n",
    "frontier.put(S)\n",
    "current_node = frontier.get()\n",
    "\n",
    "while not verify_end(current_node, maze):\n",
    "    for action in availabe_actions(current_node.position, maze):\n",
    "        new_actions = [x for x in current_node.actions]\n",
    "        new_actions.append(action)\n",
    "        new_node = node(apply_action(current_node.position, action), new_actions)\n",
    "        frontier.put(new_node)\n",
    "    current_node = frontier.get()\n",
    "print(frontier.qsize(), current_node.position, [transform_actions(x) for x in current_node.actions])"
   ]
  },
  {
   "cell_type": "code",
   "execution_count": 20,
   "id": "62735679",
   "metadata": {},
   "outputs": [
    {
     "data": {
      "text/plain": [
       "array([['w', 'w', 'w', 'c', 'w', 'w', 'w', 'w', 'w', 'w'],\n",
       "       ['w', 'w', 'w', 'c', 'c', 'c', 'c', 'c', 'c', 'w'],\n",
       "       ['w', 'w', 'c', 'c', 'w', 'w', 'c', 'w', 'c', 'w'],\n",
       "       ['w', 'c', 'c', 'w', 'w', 'w', 'w', 'w', 'c', 'w'],\n",
       "       ['w', 'c', 'w', 'w', 'c', 'c', 'c', 'w', 'w', 'w'],\n",
       "       ['w', 'c', 'c', 'c', 'c', 'w', 'c', 'c', 'w', 'w'],\n",
       "       ['w', 'c', 'w', 'c', 'w', 'w', 'w', 'c', 'c', 'w'],\n",
       "       ['w', 'c', 'w', 'c', 'w', 'w', 'c', 'c', 'w', 'w'],\n",
       "       ['w', 'c', 'w', 'c', 'c', 'w', 'w', 'c', 'c', 'w'],\n",
       "       ['w', 'w', 'w', 'w', 'w', 'w', 'w', 'w', 'c', 'w']], dtype='<U1')"
      ]
     },
     "execution_count": 20,
     "metadata": {},
     "output_type": "execute_result"
    }
   ],
   "source": [
    "maze"
   ]
  },
  {
   "cell_type": "code",
   "execution_count": 7,
   "id": "b79ae6f9",
   "metadata": {},
   "outputs": [
    {
     "name": "stdout",
     "output_type": "stream",
     "text": [
      "[0, 1]\n",
      "[1, 1]\n",
      "[2, 1]\n",
      "[2, 2]\n",
      "[2, 3]\n",
      "[3, 3]\n"
     ]
    },
    {
     "data": {
      "text/plain": [
       "array([['w', '+', 'w', 'w', 'w'],\n",
       "       ['w', '+', 'w', 'c', 'w'],\n",
       "       ['w', '+', '+', '+', 'w'],\n",
       "       ['w', 'c', 'w', '+', 'w'],\n",
       "       ['w', 'w', 'w', '+', 'w']], dtype='<U1')"
      ]
     },
     "execution_count": 7,
     "metadata": {},
     "output_type": "execute_result"
    }
   ],
   "source": [
    "copy_maze = maze\n",
    "position_maze = [0,1]\n",
    "copy_maze[position_maze[0], position_maze[1]] = '+'\n",
    "for action in current_node.actions:\n",
    "    print(position_maze)\n",
    "    position_maze = apply_action(position_maze, action)\n",
    "    copy_maze[position_maze[0], position_maze[1]] = '+'\n",
    "copy_maze"
   ]
  },
  {
   "cell_type": "code",
   "execution_count": 8,
   "id": "f5b2db30",
   "metadata": {},
   "outputs": [
    {
     "data": {
      "text/plain": [
       "array([['w', '+', 'w', 'w', 'w'],\n",
       "       ['w', '+', 'w', 'c', 'w'],\n",
       "       ['w', '+', '+', '+', 'w'],\n",
       "       ['w', 'c', 'w', '+', 'w'],\n",
       "       ['w', 'w', 'w', '+', 'w']], dtype='<U1')"
      ]
     },
     "execution_count": 8,
     "metadata": {},
     "output_type": "execute_result"
    }
   ],
   "source": [
    "maze"
   ]
  },
  {
   "cell_type": "code",
   "execution_count": null,
   "id": "ff4ba9d4",
   "metadata": {},
   "outputs": [],
   "source": []
  }
 ],
 "metadata": {
  "kernelspec": {
   "display_name": "Python 3 (ipykernel)",
   "language": "python",
   "name": "python3"
  },
  "language_info": {
   "codemirror_mode": {
    "name": "ipython",
    "version": 3
   },
   "file_extension": ".py",
   "mimetype": "text/x-python",
   "name": "python",
   "nbconvert_exporter": "python",
   "pygments_lexer": "ipython3",
   "version": "3.8.12"
  }
 },
 "nbformat": 4,
 "nbformat_minor": 5
}
