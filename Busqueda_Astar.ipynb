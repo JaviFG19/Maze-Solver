{
 "cells": [
  {
   "cell_type": "code",
   "execution_count": 16,
   "id": "05d31737",
   "metadata": {},
   "outputs": [],
   "source": [
    "import numpy as np"
   ]
  },
  {
   "cell_type": "code",
   "execution_count": 17,
   "id": "b16b2cbd",
   "metadata": {},
   "outputs": [
    {
     "name": "stdout",
     "output_type": "stream",
     "text": [
      "(10, 10)\n",
      "[['w' 'w' 'w' 'c' 'w' 'w' 'w' 'w' 'w' 'w']\n",
      " ['w' 'w' 'w' 'c' 'c' 'c' 'c' 'c' 'c' 'w']\n",
      " ['w' 'w' 'c' 'c' 'w' 'w' 'c' 'w' 'c' 'w']\n",
      " ['w' 'c' 'c' 'w' 'w' 'w' 'w' 'w' 'c' 'w']\n",
      " ['w' 'c' 'w' 'w' 'c' 'c' 'c' 'w' 'w' 'w']\n",
      " ['w' 'c' 'c' 'c' 'c' 'w' 'c' 'c' 'w' 'w']\n",
      " ['w' 'c' 'w' 'c' 'w' 'w' 'w' 'c' 'c' 'w']\n",
      " ['w' 'c' 'w' 'c' 'w' 'w' 'c' 'c' 'w' 'w']\n",
      " ['w' 'c' 'w' 'c' 'c' 'w' 'w' 'c' 'c' 'w']\n",
      " ['w' 'w' 'w' 'w' 'w' 'w' 'w' 'w' 'c' 'w']]\n"
     ]
    }
   ],
   "source": [
    "maze = np.genfromtxt('maze_10x10.csv', delimiter=',', dtype=str)\n",
    "print(maze.shape)\n",
    "print(maze)"
   ]
  },
  {
   "cell_type": "code",
   "execution_count": 18,
   "id": "5af5fcf9",
   "metadata": {},
   "outputs": [],
   "source": [
    "def availabe_actions(position, maze):\n",
    "    \"\"\"\n",
    "    Returns the available actions to do\n",
    "    \n",
    "    Parameters:\n",
    "    A list with the current position and the maze in a (nxn) matrix\n",
    "    Returns:\n",
    "    A list with the actions to do\n",
    "    \"\"\"\n",
    "    actions = []\n",
    "    if position[0]+1<maze.shape[0]:\n",
    "        if maze[position[0]+1,position[1]]!='w':\n",
    "            actions.append([1,0])\n",
    "    \n",
    "    if position[0]-1<maze.shape[0]:\n",
    "        if maze[position[0]-1,position[1]]!='w':\n",
    "            actions.append([-1,0])\n",
    "    \n",
    "    if position[1]+1<maze.shape[1]:\n",
    "        if maze[position[0],position[1]+1]!='w':\n",
    "            actions.append([0,1])\n",
    "    \n",
    "    if position[1]-1<maze.shape[1]:\n",
    "        if maze[position[0],position[1]-1]!='w':\n",
    "            actions.append([0,-1])\n",
    "    return actions\n",
    "\n",
    "def apply_action(position, action):\n",
    "    \"\"\"\n",
    "    Returns the new current position in the maze after apply an action\n",
    "    \n",
    "    Parameters:\n",
    "    position: a list with the current position\n",
    "    action: the vector action to do (ej. Down action [0,1])\n",
    "    \n",
    "    Returns:\n",
    "    \n",
    "    \"\"\"\n",
    "    return [position[0]+action[0], position[1]+action[1]]\n",
    "\n",
    "def verify_end(node, maze):\n",
    "    end = False\n",
    "    if node.position == [maze.shape[0]-1, maze.shape[1]-2]:\n",
    "        end = True\n",
    "    return end\n",
    "\n",
    "def initial_position(maze):\n",
    "    i_pos = [0,1]\n",
    "    for i in range(maze.shape[1]):\n",
    "        if maze[0,i]==\"c\":\n",
    "            i_pos[1] = i\n",
    "            break\n",
    "    return i_pos\n",
    " \n",
    "class node(object):\n",
    "    \"\"\"\n",
    "    position\n",
    "    list of previous actions\n",
    "    \"\"\"\n",
    "    def __init__(self, position, actions, count, final_position):\n",
    "        self.position = position\n",
    "        self.actions = actions\n",
    "        self.count = count\n",
    "        self.final_position = final_position\n",
    "    def increase_count(self):\n",
    "        self.count = self.count+1\n",
    "    def get_count(self):\n",
    "        return self.count\n",
    "    def __gt__(self, other):\n",
    "        distance_heuristic = np.sqrt((self.position[0]-self.final_position[0])**2.+(self.position[1]-self.final_position[1])**2.)\n",
    "        other_distance_heuristic = np.sqrt((other.position[0]-other.final_position[0])**2.+(other.position[1]-other.final_position[1])**2.)\n",
    "        return self.count + distance_heuristic > other.count + other_distance_heuristic\n",
    "    def __lt__(self, other):\n",
    "        distance_heuristic = np.sqrt((self.position[0]-self.final_position[0])**2.+(self.position[1]-self.final_position[1])**2.)\n",
    "        other_distance_heuristic = np.sqrt((other.position[0]-other.final_position[0])**2.+(other.position[1]-other.final_position[1])**2.)\n",
    "        return self.count + distance_heuristic < other.count + other_distance_heuristic"
   ]
  },
  {
   "cell_type": "code",
   "execution_count": 19,
   "id": "8307693f",
   "metadata": {},
   "outputs": [],
   "source": [
    "def transform_actions(x):\n",
    "    if x == [0,1]:\n",
    "        return \"R\"\n",
    "    if x == [0,-1]:\n",
    "        return \"L\"\n",
    "    if x == [1,0]:\n",
    "        return \"D\"\n",
    "    if x == [-1,0]:\n",
    "        return \"U\""
   ]
  },
  {
   "cell_type": "code",
   "execution_count": 20,
   "id": "2ca2990c",
   "metadata": {},
   "outputs": [
    {
     "name": "stdout",
     "output_type": "stream",
     "text": [
      "[0, 3]\n",
      "4091 [9, 8] ['D', 'D', 'L', 'D', 'L', 'D', 'D', 'R', 'R', 'R', 'U', 'R', 'R', 'D', 'R', 'D', 'D', 'D', 'R', 'D']\n"
     ]
    }
   ],
   "source": [
    "import queue\n",
    "\n",
    "S = node(initial_position(maze), actions=[], count=0, final_position=[maze.shape[0]-1, maze.shape[1]-2])\n",
    "print(S.position)\n",
    "frontier= queue.PriorityQueue()\n",
    "frontier.put(S)\n",
    "current_node = frontier.get()\n",
    "while not (verify_end(current_node, maze)):\n",
    "    for action in availabe_actions(current_node.position, maze):\n",
    "        new_actions = [x for x in current_node.actions]\n",
    "        new_actions.append(action)\n",
    "        new_node = node(apply_action(current_node.position, action), new_actions, current_node.get_count()+1, [maze.shape[0]-1, maze.shape[1]-2])\n",
    "        frontier.put(new_node)\n",
    "    current_node = frontier.get()\n",
    "print(frontier.qsize(), current_node.position, [transform_actions(x) for x in current_node.actions])"
   ]
  },
  {
   "cell_type": "code",
   "execution_count": 21,
   "id": "b79ae6f9",
   "metadata": {},
   "outputs": [],
   "source": [
    "import matplotlib.pyplot as plt\n",
    "import matplotlib.animation as animation\n",
    "\n",
    "def animate_solution(maze, current_node, algorithm):\n",
    "    copy_maze = np.copy(maze)\n",
    "    position_maze = initial_position(maze)\n",
    "    copy_maze[position_maze[0], position_maze[1]] = '+'\n",
    "    c_action = 0\n",
    "    snapshots = []\n",
    "    for action in current_node.actions:\n",
    "        position_maze = apply_action(position_maze, action)\n",
    "        copy_maze[position_maze[0], position_maze[1]] = '+'\n",
    "        num_maze = np.where(copy_maze=='w',0,1) + np.where(copy_maze=='+',1,0)\n",
    "        snapshots.append(num_maze)\n",
    "        c_action += 1\n",
    "        \n",
    "    nSeconds = 8\n",
    "    fps = int(len(current_node.actions)/nSeconds)\n",
    "    fig = plt.figure( figsize=(8,8) )\n",
    "\n",
    "    a = snapshots[0]\n",
    "    im = plt.imshow(a, cmap='gray')\n",
    "\n",
    "    def animate_func(i):\n",
    "        if i % fps == 0:\n",
    "            print( '.', end ='' )\n",
    "\n",
    "        im.set_array(snapshots[i])\n",
    "        return [im]\n",
    "\n",
    "    anim = animation.FuncAnimation(\n",
    "                                   fig, \n",
    "                                   animate_func, \n",
    "                                   frames = nSeconds * fps,\n",
    "                                   interval = 1000 / fps, # in ms\n",
    "                                   )\n",
    "\n",
    "    anim.save(algorithm+'_result.mp4', fps=fps, extra_args=['-vcodec', 'libx264'])\n",
    "\n",
    "    print('Done!')"
   ]
  },
  {
   "cell_type": "code",
   "execution_count": 22,
   "id": "339bc4a9",
   "metadata": {},
   "outputs": [
    {
     "name": "stdout",
     "output_type": "stream",
     "text": [
      ".........Done!\n"
     ]
    },
    {
     "data": {
      "image/png": "[encoded data removed]",
      "text/plain": [
       "<Figure size 576x576 with 1 Axes>"
      ]
     },
     "metadata": {
      "needs_background": "light"
     },
     "output_type": "display_data"
    }
   ],
   "source": [
    "animate_solution(maze, current_node, 'test')"
   ]
  },
  {
   "cell_type": "code",
   "execution_count": 13,
   "id": "ba401b93",
   "metadata": {},
   "outputs": [
    {
     "name": "stdout",
     "output_type": "stream",
     "text": [
      "hola\n"
     ]
    },
    {
     "name": "stderr",
     "output_type": "stream",
     "text": [
      "Exception in thread Thread-12:\n",
      "Traceback (most recent call last):\n",
      "  File \"/home/kennet/anaconda3/envs/data/lib/python3.8/threading.py\", line 932, in _bootstrap_inner\n",
      "    self.run()\n",
      "  File \"/home/kennet/anaconda3/envs/data/lib/python3.8/threading.py\", line 870, in run\n",
      "    self._target(*self._args, **self._kwargs)\n",
      "  File \"/home/kennet/anaconda3/envs/data/lib/python3.8/site-packages/tkvideo/tkvideo.py\", line 51, in load\n",
      "    label.config(image=frame_image)\n",
      "  File \"/home/kennet/anaconda3/envs/data/lib/python3.8/tkinter/__init__.py\", line 1646, in configure\n",
      "    return self._configure('configure', cnf, kw)\n",
      "  File \"/home/kennet/anaconda3/envs/data/lib/python3.8/tkinter/__init__.py\", line 1636, in _configure\n",
      "    self.tk.call(_flatten((self._w, cmd)) + self._options(cnf))\n",
      "_tkinter.TclError: invalid command name \".!toplevel.!toplevel.!label\"\n"
     ]
    },
    {
     "name": "stdout",
     "output_type": "stream",
     "text": [
      "hola\n"
     ]
    },
    {
     "name": "stderr",
     "output_type": "stream",
     "text": [
      "Exception in thread Thread-37:\n",
      "Traceback (most recent call last):\n",
      "  File \"/home/kennet/anaconda3/envs/data/lib/python3.8/threading.py\", line 932, in _bootstrap_inner\n",
      "    self.run()\n",
      "  File \"/home/kennet/anaconda3/envs/data/lib/python3.8/threading.py\", line 870, in run\n",
      "    self._target(*self._args, **self._kwargs)\n",
      "  File \"/home/kennet/anaconda3/envs/data/lib/python3.8/site-packages/tkvideo/tkvideo.py\", line 51, in load\n",
      "    label.config(image=frame_image)\n",
      "  File \"/home/kennet/anaconda3/envs/data/lib/python3.8/tkinter/__init__.py\", line 1646, in configure\n",
      "    return self._configure('configure', cnf, kw)\n",
      "  File \"/home/kennet/anaconda3/envs/data/lib/python3.8/tkinter/__init__.py\", line 1636, in _configure\n",
      "    self.tk.call(_flatten((self._w, cmd)) + self._options(cnf))\n",
      "_tkinter.TclError: invalid command name \".!toplevel.!toplevel2.!label\"\n"
     ]
    }
   ],
   "source": [
    "import tkinter as tk\n",
    "from tkinter import ttk\n",
    "from tkinter import filedialog as fd\n",
    "from tkinter.messagebox import showinfo\n",
    "from tkinter import *\n",
    "from tkvideo import tkvideo\n",
    "\n",
    "# create the root window\n",
    "root = tk.Tk()\n",
    "root.title('Bienvenido al laboratorio de IA')\n",
    "Label(root,\n",
    "          text =\"Seleccione un laberinto a resolver\",font=(\"Helvetica\", 9)).pack()\n",
    "root.resizable(False, False)\n",
    "root.geometry('300x150')\n",
    "\n",
    "\n",
    "def select_file():\n",
    "    filetypes = (\n",
    "        ('text files', '*.csv'),\n",
    "        ('All files', '*.*')\n",
    "    )\n",
    "\n",
    "    filename = fd.askopenfilename(\n",
    "        title='Abrir un archivo',\n",
    "        initialdir='./',\n",
    "        filetypes=filetypes)\n",
    "    \n",
    "    maze = str(np.genfromtxt(filename, delimiter=',', dtype=str))\n",
    "    \n",
    "    \n",
    "    def charge_giff(imagefilename='./animation.gif'):\n",
    "        print('hola')\n",
    "        gif1 = PhotoImage(file='./animation.gif')\n",
    "        newWindow2 = Toplevel(newWindow)\n",
    "        my_label = Label(newWindow2)\n",
    "        my_label.pack()\n",
    "        player = tkvideo(\"./test_anim.mp4\", my_label, loop = 1)\n",
    "        player.play()\n",
    "        Label(newWindow2,\n",
    "          text =\"Tiempo: X\",font=(\"Helvetica\", 9)).pack()\n",
    "        Label(newWindow2,\n",
    "          text =\"Espacio: Y\",font=(\"Helvetica\", 9)).pack()\n",
    "\n",
    "    \n",
    "    \n",
    "    # Toplevel object which will\n",
    "    # be treated as a new window\n",
    "    newWindow = Toplevel(root)\n",
    " \n",
    "    # sets the title of the\n",
    "    # Toplevel widget\n",
    "    newWindow.title(\"New Window\")\n",
    " \n",
    "    # sets the geometry of toplevel\n",
    "    newWindow.geometry(\"300x300\")\n",
    " \n",
    "    # A Label widget to show in toplevel\n",
    "    Label(newWindow,\n",
    "          text =\"Seleccione un solucionador\").pack()\n",
    "    b1 = Button(newWindow,text = \"A*\",command = charge_giff,activeforeground = \"red\",activebackground = \"pink\",pady=10)  \n",
    "  \n",
    "    b2 = Button(newWindow, text = \"Búsqueda greedy\",activeforeground = \"blue\",activebackground = \"pink\",pady=10)  \n",
    "\n",
    "    b3 = Button(newWindow, text = \"Búsqueda de costo uniforme\",activeforeground = \"green\",activebackground = \"pink\",pady = 10)  \n",
    "\n",
    "    b4 = Button(newWindow, text = \"Profundidad iterativa\",activeforeground = \"yellow\",activebackground = \"pink\",pady = 10)\n",
    "    \n",
    "    b5 = Button(newWindow, text = \"Anchura\",activeforeground = \"yellow\",activebackground = \"pink\",pady = 10)\n",
    "    \n",
    "    b6 = Button(newWindow, text = \"Profundidad\",activeforeground = \"yellow\",activebackground = \"pink\",pady = 10)\n",
    "\n",
    "    b1.pack()  \n",
    "\n",
    "    b2.pack()  \n",
    "\n",
    "    b3.pack()  \n",
    "\n",
    "    b4.pack()\n",
    "    \n",
    "    b5.pack()  \n",
    "\n",
    "    b6.pack()\n",
    "    \n",
    "\n",
    "\n",
    "# open button\n",
    "open_button = ttk.Button(\n",
    "    root,\n",
    "    text='Abrir un archivo',\n",
    "    command=select_file\n",
    ")\n",
    "\n",
    "open_button.pack(expand=True)\n",
    "\n",
    "# run the application\n",
    "root.mainloop()"
   ]
  },
  {
   "cell_type": "code",
   "execution_count": 7,
   "id": "234bbbb6",
   "metadata": {},
   "outputs": [],
   "source": [
    "#!pip install tkVideo\n",
    "from tkvideo import tkvideo\n",
    "from tkinter import *\n",
    "root = Tk()\n",
    "my_label = Label(root)\n",
    "my_label.pack()\n",
    "player = tkvideo(\"./test_anim.mp4\", my_label, loop = 0)\n",
    "player.play()\n",
    "\n",
    "root.mainloop()"
   ]
  },
  {
   "cell_type": "code",
   "execution_count": null,
   "id": "ad29762e",
   "metadata": {},
   "outputs": [],
   "source": []
  }
 ],
 "metadata": {
  "kernelspec": {
   "display_name": "Python 3 (ipykernel)",
   "language": "python",
   "name": "python3"
  },
  "language_info": {
   "codemirror_mode": {
    "name": "ipython",
    "version": 3
   },
   "file_extension": ".py",
   "mimetype": "text/x-python",
   "name": "python",
   "nbconvert_exporter": "python",
   "pygments_lexer": "ipython3",
   "version": "3.8.12"
  }
 },
 "nbformat": 4,
 "nbformat_minor": 5
}
