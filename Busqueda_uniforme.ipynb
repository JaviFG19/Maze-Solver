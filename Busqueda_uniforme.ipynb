{
 "cells": [
  {
   "cell_type": "code",
   "execution_count": 1,
   "id": "05d31737",
   "metadata": {},
   "outputs": [],
   "source": [
    "import numpy as np"
   ]
  },
  {
   "cell_type": "code",
   "execution_count": 2,
   "id": "b16b2cbd",
   "metadata": {},
   "outputs": [
    {
     "name": "stdout",
     "output_type": "stream",
     "text": [
      "(5, 5)\n",
      "[['w' 'c' 'w' 'w' 'w']\n",
      " ['w' 'c' 'w' 'c' 'w']\n",
      " ['w' 'c' 'c' 'c' 'w']\n",
      " ['w' 'c' 'w' 'c' 'w']\n",
      " ['w' 'w' 'w' 'c' 'w']]\n"
     ]
    }
   ],
   "source": [
    "maze = np.genfromtxt('maze_5x5.csv', delimiter=',', dtype=str)\n",
    "print(maze.shape)\n",
    "print(maze)"
   ]
  },
  {
   "cell_type": "code",
   "execution_count": 3,
   "id": "5af5fcf9",
   "metadata": {},
   "outputs": [],
   "source": [
    "def availabe_actions(position, maze):\n",
    "    \"\"\"\n",
    "    Returns the available actions to do\n",
    "    \n",
    "    Parameters:\n",
    "    A list with the current position and the maze in a (nxn) matrix\n",
    "    Returns:\n",
    "    A list with the actions to do\n",
    "    \"\"\"\n",
    "    actions = []\n",
    "    if position[0]+1<maze.shape[0]:\n",
    "        if maze[position[0]+1,position[1]]!='w':\n",
    "            actions.append([1,0])\n",
    "    \n",
    "    if position[0]-1<maze.shape[0]:\n",
    "        if maze[position[0]-1,position[1]]!='w':\n",
    "            actions.append([-1,0])\n",
    "    \n",
    "    if position[1]+1<maze.shape[1]:\n",
    "        if maze[position[0],position[1]+1]!='w':\n",
    "            actions.append([0,1])\n",
    "    \n",
    "    if position[1]-1<maze.shape[1]:\n",
    "        if maze[position[0],position[1]-1]!='w':\n",
    "            actions.append([0,-1])\n",
    "    return actions\n",
    "\n",
    "def apply_action(position, action):\n",
    "    return [position[0]+action[0], position[1]+action[1]]\n",
    "\n",
    "def verify_end(node, maze):\n",
    "    end = False\n",
    "    if node.position == [maze.shape[0]-1, maze.shape[1]-2]:\n",
    "        end = True\n",
    "    return end\n",
    "\n",
    "class node(object):\n",
    "    \"\"\"\n",
    "    position\n",
    "    list of previous actions\n",
    "    \"\"\"\n",
    "    def __init__(self, position, actions=[], count=0):\n",
    "        self.position = position\n",
    "        self.actions = actions\n",
    "        self.count = count\n",
    "    def increase_count(self):\n",
    "        self.count = self.count+1\n",
    "    def get_count(self):\n",
    "        return self.count\n",
    "    def __gt__(self, other):\n",
    "        return self.count > other.count\n",
    "    def __lt__(self, other):\n",
    "        return self.count < other.count"
   ]
  },
  {
   "cell_type": "code",
   "execution_count": 4,
   "id": "8307693f",
   "metadata": {},
   "outputs": [],
   "source": [
    "def transform_actions(x):\n",
    "    if x == [0,1]:\n",
    "        return \"R\"\n",
    "    if x == [0,-1]:\n",
    "        return \"L\"\n",
    "    if x == [1,0]:\n",
    "        return \"D\"\n",
    "    if x == [-1,0]:\n",
    "        return \"U\""
   ]
  },
  {
   "cell_type": "code",
   "execution_count": 5,
   "id": "2ca2990c",
   "metadata": {},
   "outputs": [
    {
     "name": "stdout",
     "output_type": "stream",
     "text": [
      "52 [4, 3] ['D', 'D', 'R', 'R', 'D', 'D']\n"
     ]
    }
   ],
   "source": [
    "import queue\n",
    "\n",
    "S = node([0,1])\n",
    "frontier= queue.PriorityQueue()\n",
    "frontier.put(S)\n",
    "current_node = frontier.get()\n",
    "while not verify_end(current_node, maze):\n",
    "    for action in availabe_actions(current_node.position, maze):\n",
    "        new_actions = [x for x in current_node.actions]\n",
    "        new_actions.append(action)\n",
    "        new_node = node(apply_action(current_node.position, action), new_actions, current_node.count+1)\n",
    "        frontier.put(new_node)\n",
    "    current_node = frontier.get()\n",
    "print(frontier.qsize(), current_node.position, [transform_actions(x) for x in current_node.actions])"
   ]
  },
  {
   "cell_type": "code",
   "execution_count": 6,
   "id": "b79ae6f9",
   "metadata": {},
   "outputs": [
    {
     "name": "stdout",
     "output_type": "stream",
     "text": [
      "[0, 1]\n",
      "[1, 1]\n",
      "[2, 1]\n",
      "[2, 2]\n",
      "[2, 3]\n",
      "[3, 3]\n"
     ]
    },
    {
     "data": {
      "text/plain": [
       "array([['w', '+', 'w', 'w', 'w'],\n",
       "       ['w', '+', 'w', 'c', 'w'],\n",
       "       ['w', '+', '+', '+', 'w'],\n",
       "       ['w', 'c', 'w', '+', 'w'],\n",
       "       ['w', 'w', 'w', '+', 'w']], dtype='<U1')"
      ]
     },
     "execution_count": 6,
     "metadata": {},
     "output_type": "execute_result"
    }
   ],
   "source": [
    "copy_maze = maze\n",
    "position_maze = [0,1]\n",
    "copy_maze[position_maze[0], position_maze[1]] = '+'\n",
    "for action in current_node.actions:\n",
    "    print(position_maze)\n",
    "    position_maze = apply_action(position_maze, action)\n",
    "    copy_maze[position_maze[0], position_maze[1]] = '+'\n",
    "copy_maze"
   ]
  },
  {
   "cell_type": "code",
   "execution_count": 7,
   "id": "b99f6fe3",
   "metadata": {},
   "outputs": [
    {
     "name": "stdout",
     "output_type": "stream",
     "text": [
      "pygame 2.1.2 (SDL 2.0.16, Python 3.8.12)\n",
      "Hello from the pygame community. https://www.pygame.org/contribute.html\n"
     ]
    },
    {
     "ename": "FileNotFoundError",
     "evalue": "No file 'pygame.png' found in working directory '/home/kennet/Documentos/IntroIA/proyecto1/exploratorio'.",
     "output_type": "error",
     "traceback": [
      "\u001b[0;31m---------------------------------------------------------------------------\u001b[0m",
      "\u001b[0;31mFileNotFoundError\u001b[0m                         Traceback (most recent call last)",
      "\u001b[0;32m/tmp/ipykernel_68141/2256006621.py\u001b[0m in \u001b[0;36m<module>\u001b[0;34m\u001b[0m\n\u001b[1;32m     83\u001b[0m \u001b[0;32mif\u001b[0m \u001b[0m__name__\u001b[0m \u001b[0;34m==\u001b[0m \u001b[0;34m\"__main__\"\u001b[0m \u001b[0;34m:\u001b[0m\u001b[0;34m\u001b[0m\u001b[0;34m\u001b[0m\u001b[0m\n\u001b[1;32m     84\u001b[0m     \u001b[0mtheApp\u001b[0m \u001b[0;34m=\u001b[0m \u001b[0mApp\u001b[0m\u001b[0;34m(\u001b[0m\u001b[0;34m)\u001b[0m\u001b[0;34m\u001b[0m\u001b[0;34m\u001b[0m\u001b[0m\n\u001b[0;32m---> 85\u001b[0;31m     \u001b[0mtheApp\u001b[0m\u001b[0;34m.\u001b[0m\u001b[0mon_execute\u001b[0m\u001b[0;34m(\u001b[0m\u001b[0;34m)\u001b[0m\u001b[0;34m\u001b[0m\u001b[0;34m\u001b[0m\u001b[0m\n\u001b[0m",
      "\u001b[0;32m/tmp/ipykernel_68141/2256006621.py\u001b[0m in \u001b[0;36mon_execute\u001b[0;34m(self)\u001b[0m\n\u001b[1;32m     55\u001b[0m \u001b[0;34m\u001b[0m\u001b[0m\n\u001b[1;32m     56\u001b[0m     \u001b[0;32mdef\u001b[0m \u001b[0mon_execute\u001b[0m\u001b[0;34m(\u001b[0m\u001b[0mself\u001b[0m\u001b[0;34m)\u001b[0m\u001b[0;34m:\u001b[0m\u001b[0;34m\u001b[0m\u001b[0;34m\u001b[0m\u001b[0m\n\u001b[0;32m---> 57\u001b[0;31m         \u001b[0;32mif\u001b[0m \u001b[0mself\u001b[0m\u001b[0;34m.\u001b[0m\u001b[0mon_init\u001b[0m\u001b[0;34m(\u001b[0m\u001b[0;34m)\u001b[0m \u001b[0;34m==\u001b[0m \u001b[0;32mFalse\u001b[0m\u001b[0;34m:\u001b[0m\u001b[0;34m\u001b[0m\u001b[0;34m\u001b[0m\u001b[0m\n\u001b[0m\u001b[1;32m     58\u001b[0m             \u001b[0mself\u001b[0m\u001b[0;34m.\u001b[0m\u001b[0m_running\u001b[0m \u001b[0;34m=\u001b[0m \u001b[0;32mFalse\u001b[0m\u001b[0;34m\u001b[0m\u001b[0;34m\u001b[0m\u001b[0m\n\u001b[1;32m     59\u001b[0m \u001b[0;34m\u001b[0m\u001b[0m\n",
      "\u001b[0;32m/tmp/ipykernel_68141/2256006621.py\u001b[0m in \u001b[0;36mon_init\u001b[0;34m(self)\u001b[0m\n\u001b[1;32m     37\u001b[0m         \u001b[0mpygame\u001b[0m\u001b[0;34m.\u001b[0m\u001b[0mdisplay\u001b[0m\u001b[0;34m.\u001b[0m\u001b[0mset_caption\u001b[0m\u001b[0;34m(\u001b[0m\u001b[0;34m'Pygame pythonspot.com example'\u001b[0m\u001b[0;34m)\u001b[0m\u001b[0;34m\u001b[0m\u001b[0;34m\u001b[0m\u001b[0m\n\u001b[1;32m     38\u001b[0m         \u001b[0mself\u001b[0m\u001b[0;34m.\u001b[0m\u001b[0m_running\u001b[0m \u001b[0;34m=\u001b[0m \u001b[0;32mTrue\u001b[0m\u001b[0;34m\u001b[0m\u001b[0;34m\u001b[0m\u001b[0m\n\u001b[0;32m---> 39\u001b[0;31m         \u001b[0mself\u001b[0m\u001b[0;34m.\u001b[0m\u001b[0m_image_surf\u001b[0m \u001b[0;34m=\u001b[0m \u001b[0mpygame\u001b[0m\u001b[0;34m.\u001b[0m\u001b[0mimage\u001b[0m\u001b[0;34m.\u001b[0m\u001b[0mload\u001b[0m\u001b[0;34m(\u001b[0m\u001b[0;34m\"pygame.png\"\u001b[0m\u001b[0;34m)\u001b[0m\u001b[0;34m.\u001b[0m\u001b[0mconvert\u001b[0m\u001b[0;34m(\u001b[0m\u001b[0;34m)\u001b[0m\u001b[0;34m\u001b[0m\u001b[0;34m\u001b[0m\u001b[0m\n\u001b[0m\u001b[1;32m     40\u001b[0m \u001b[0;34m\u001b[0m\u001b[0m\n\u001b[1;32m     41\u001b[0m     \u001b[0;32mdef\u001b[0m \u001b[0mon_event\u001b[0m\u001b[0;34m(\u001b[0m\u001b[0mself\u001b[0m\u001b[0;34m,\u001b[0m \u001b[0mevent\u001b[0m\u001b[0;34m)\u001b[0m\u001b[0;34m:\u001b[0m\u001b[0;34m\u001b[0m\u001b[0;34m\u001b[0m\u001b[0m\n",
      "\u001b[0;31mFileNotFoundError\u001b[0m: No file 'pygame.png' found in working directory '/home/kennet/Documentos/IntroIA/proyecto1/exploratorio'."
     ]
    }
   ],
   "source": [
    "from pygame.locals import *\n",
    "import pygame\n",
    " \n",
    "class Player:\n",
    "    x = 10\n",
    "    y = 10\n",
    "    speed = 1\n",
    " \n",
    "    def moveRight(self):\n",
    "        self.x = self.x + self.speed\n",
    " \n",
    "    def moveLeft(self):\n",
    "        self.x = self.x - self.speed\n",
    " \n",
    "    def moveUp(self):\n",
    "        self.y = self.y - self.speed\n",
    " \n",
    "    def moveDown(self):\n",
    "        self.y = self.y + self.speed\n",
    " \n",
    "class App:\n",
    " \n",
    "    windowWidth = 800\n",
    "    windowHeight = 600\n",
    "    player = 0\n",
    " \n",
    "    def __init__(self):\n",
    "        self._running = True\n",
    "        self._display_surf = None\n",
    "        self._image_surf = None\n",
    "        self.player = Player()\n",
    " \n",
    "    def on_init(self):\n",
    "        pygame.init()\n",
    "        self._display_surf = pygame.display.set_mode((self.windowWidth,self.windowHeight), pygame.HWSURFACE)\n",
    "        \n",
    "        pygame.display.set_caption('Pygame pythonspot.com example')\n",
    "        self._running = True\n",
    "        self._image_surf = pygame.image.load(\"pygame.png\").convert()\n",
    " \n",
    "    def on_event(self, event):\n",
    "        if event.type == QUIT:\n",
    "            self._running = False\n",
    " \n",
    "    def on_loop(self):\n",
    "        pass\n",
    "    \n",
    "    def on_render(self):\n",
    "        self._display_surf.fill((0,0,0))\n",
    "        self._display_surf.blit(self._image_surf,(self.player.x,self.player.y))\n",
    "        pygame.display.flip()\n",
    " \n",
    "    def on_cleanup(self):\n",
    "        pygame.quit()\n",
    " \n",
    "    def on_execute(self):\n",
    "        if self.on_init() == False:\n",
    "            self._running = False\n",
    " \n",
    "        while( self._running ):\n",
    "            pygame.event.pump()\n",
    "            keys = pygame.key.get_pressed()\n",
    "            \n",
    "            if (keys[K_RIGHT]):\n",
    "                self.player.moveRight()\n",
    " \n",
    "            if (keys[K_LEFT]):\n",
    "                self.player.moveLeft()\n",
    " \n",
    "            if (keys[K_UP]):\n",
    "                self.player.moveUp()\n",
    " \n",
    "            if (keys[K_DOWN]):\n",
    "                self.player.moveDown()\n",
    " \n",
    "            if (keys[K_ESCAPE]):\n",
    "                self._running = False\n",
    " \n",
    "            self.on_loop()\n",
    "            self.on_render()\n",
    "        self.on_cleanup()\n",
    " \n",
    "if __name__ == \"__main__\" :\n",
    "    theApp = App()\n",
    "    theApp.on_execute()"
   ]
  },
  {
   "cell_type": "code",
   "execution_count": null,
   "id": "339bc4a9",
   "metadata": {},
   "outputs": [],
   "source": []
  }
 ],
 "metadata": {
  "kernelspec": {
   "display_name": "Python 3 (ipykernel)",
   "language": "python",
   "name": "python3"
  },
  "language_info": {
   "codemirror_mode": {
    "name": "ipython",
    "version": 3
   },
   "file_extension": ".py",
   "mimetype": "text/x-python",
   "name": "python",
   "nbconvert_exporter": "python",
   "pygments_lexer": "ipython3",
   "version": "3.8.12"
  }
 },
 "nbformat": 4,
 "nbformat_minor": 5
}
